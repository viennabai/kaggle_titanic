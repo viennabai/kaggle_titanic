{
 "cells": [
  {
   "cell_type": "code",
   "execution_count": 60,
   "metadata": {},
   "outputs": [],
   "source": [
    "import pandas as pd\n",
    "import numpy as np\n",
    "import seaborn as sns\n",
    "import matplotlib.pyplot as plt\n",
    "\n",
    "from sklearn.model_selection import train_test_split, KFold, cross_val_score\n",
    "from sklearn.metrics import confusion_matrix, classification_report\n",
    "\n",
    "from sklearn.model_selection import GridSearchCV\n",
    "from tensorflow.keras.wrappers.scikit_learn import KerasClassifier\n",
    "\n",
    "from tensorflow.keras.models import Sequential\n",
    "from tensorflow.keras.layers import Dense, Dropout, Flatten\n",
    "\n",
    "import tensorflow as tf"
   ]
  },
  {
   "cell_type": "markdown",
   "metadata": {},
   "source": [
    "https://machinelearningmastery.com/grid-search-hyperparameters-deep-learning-models-python-keras/"
   ]
  },
  {
   "cell_type": "markdown",
   "metadata": {},
   "source": [
    "##### attempt to balance"
   ]
  },
  {
   "cell_type": "markdown",
   "metadata": {},
   "source": [
    "shuffled_m = np.arange(targets_all.shape[0])\n",
    "np.random.shuffle(shuffled_m)\n",
    "\n",
    "inputs_all = inputs_all[shuffled_m]\n",
    "targets_all = targets_all[shuffled_m]"
   ]
  },
  {
   "cell_type": "markdown",
   "metadata": {},
   "source": [
    "#num_one_targets = int(np.sum(targets_all))\n",
    "num_one_targets = 400\n",
    "\n",
    "zero_targets_counter = 0\n",
    "indices_to_remove = []\n",
    "\n",
    "for i in range(targets_all.shape[0]):\n",
    "    if targets_all[i] == 0:\n",
    "        zero_targets_counter += 1\n",
    "        if zero_targets_counter > num_one_targets:\n",
    "            indices_to_remove.append(i)\n",
    "            \n",
    "inputs = np.delete(inputs_all, indices_to_remove, axis=0)\n",
    "targets = np.delete(targets_all, indices_to_remove, axis=0)"
   ]
  },
  {
   "cell_type": "markdown",
   "metadata": {},
   "source": [
    "## Pre-processing"
   ]
  },
  {
   "cell_type": "code",
   "execution_count": 16,
   "metadata": {},
   "outputs": [],
   "source": [
    "pd.set_option('display.max_columns', None)\n",
    "\n",
    "raw_data = pd.read_csv('preprocessed_train.csv')\n",
    "data = raw_data.drop(['PassengerId', 'Deck', 'Embarked'], axis=1)\n",
    "for x in data: \n",
    "    data[x] = data[x].astype('category')"
   ]
  },
  {
   "cell_type": "code",
   "execution_count": 17,
   "metadata": {
    "scrolled": true
   },
   "outputs": [],
   "source": [
    "targets = data['Survived']\n",
    "inputs = data.drop(['Survived'], axis=1)\n",
    "inputs = pd.get_dummies(inputs, drop_first=False) #use all k - deal with later with weight decay \n",
    "inputs = inputs.drop(['Sex_male'], 1)"
   ]
  },
  {
   "cell_type": "code",
   "execution_count": 18,
   "metadata": {},
   "outputs": [],
   "source": [
    "inputs = np.array(inputs, dtype='float32')\n",
    "targets = np.array(targets, dtype='int')"
   ]
  },
  {
   "cell_type": "code",
   "execution_count": 19,
   "metadata": {},
   "outputs": [],
   "source": [
    "#separate out 15% data as final test - do not touch until you're sure you're done\n",
    "X, X_final, Y, y_final = train_test_split(inputs, targets, train_size = .85, random_state=33)\n",
    "#separet out 15% as CV\n",
    "X_train, X_cv, y_train, y_cv = train_test_split(X, Y, train_size = .85, random_state=33)"
   ]
  },
  {
   "cell_type": "markdown",
   "metadata": {},
   "source": [
    "## Tensorflow"
   ]
  },
  {
   "cell_type": "markdown",
   "metadata": {},
   "source": [
    "#### Base Model"
   ]
  },
  {
   "cell_type": "code",
   "execution_count": 27,
   "metadata": {},
   "outputs": [
    {
     "name": "stdout",
     "output_type": "stream",
     "text": [
      "Train on 546 samples, validate on 97 samples\n",
      "Epoch 1/200\n",
      "546/546 - 1s - loss: 0.7015 - accuracy: 0.4963 - val_loss: 0.6607 - val_accuracy: 0.5670\n",
      "Epoch 2/200\n",
      "546/546 - 0s - loss: 0.6686 - accuracy: 0.5476 - val_loss: 0.6360 - val_accuracy: 0.7216\n",
      "Epoch 3/200\n",
      "546/546 - 0s - loss: 0.6411 - accuracy: 0.6648 - val_loss: 0.6141 - val_accuracy: 0.7423\n",
      "Epoch 4/200\n",
      "546/546 - 0s - loss: 0.6167 - accuracy: 0.7216 - val_loss: 0.5936 - val_accuracy: 0.7423\n",
      "Epoch 5/200\n",
      "546/546 - 0s - loss: 0.5954 - accuracy: 0.7509 - val_loss: 0.5770 - val_accuracy: 0.7732\n",
      "Epoch 6/200\n",
      "546/546 - 0s - loss: 0.5741 - accuracy: 0.7784 - val_loss: 0.5633 - val_accuracy: 0.7938\n",
      "Epoch 7/200\n",
      "546/546 - 0s - loss: 0.5547 - accuracy: 0.7894 - val_loss: 0.5486 - val_accuracy: 0.7835\n",
      "Epoch 8/200\n",
      "546/546 - 0s - loss: 0.5348 - accuracy: 0.7985 - val_loss: 0.5334 - val_accuracy: 0.7835\n",
      "Epoch 9/200\n",
      "546/546 - 0s - loss: 0.5152 - accuracy: 0.8077 - val_loss: 0.5203 - val_accuracy: 0.7835\n",
      "Epoch 10/200\n",
      "546/546 - 0s - loss: 0.4964 - accuracy: 0.8095 - val_loss: 0.5071 - val_accuracy: 0.8041\n",
      "Epoch 11/200\n",
      "546/546 - 0s - loss: 0.4779 - accuracy: 0.8260 - val_loss: 0.4964 - val_accuracy: 0.8557\n",
      "Epoch 12/200\n",
      "546/546 - 0s - loss: 0.4598 - accuracy: 0.8297 - val_loss: 0.4859 - val_accuracy: 0.8144\n",
      "Epoch 13/200\n",
      "546/546 - 0s - loss: 0.4478 - accuracy: 0.8333 - val_loss: 0.4795 - val_accuracy: 0.8557\n",
      "Epoch 14/200\n",
      "546/546 - 0s - loss: 0.4352 - accuracy: 0.8480 - val_loss: 0.4721 - val_accuracy: 0.8351\n",
      "Epoch 15/200\n",
      "546/546 - 0s - loss: 0.4242 - accuracy: 0.8571 - val_loss: 0.4664 - val_accuracy: 0.8351\n",
      "Epoch 16/200\n",
      "546/546 - 0s - loss: 0.4151 - accuracy: 0.8553 - val_loss: 0.4607 - val_accuracy: 0.8351\n",
      "Epoch 17/200\n",
      "546/546 - 0s - loss: 0.4075 - accuracy: 0.8571 - val_loss: 0.4560 - val_accuracy: 0.8351\n",
      "Epoch 18/200\n",
      "546/546 - 0s - loss: 0.4003 - accuracy: 0.8590 - val_loss: 0.4527 - val_accuracy: 0.8351\n",
      "Epoch 19/200\n",
      "546/546 - 0s - loss: 0.3951 - accuracy: 0.8590 - val_loss: 0.4515 - val_accuracy: 0.8247\n",
      "Epoch 20/200\n",
      "546/546 - 0s - loss: 0.3894 - accuracy: 0.8590 - val_loss: 0.4487 - val_accuracy: 0.8351\n",
      "Epoch 21/200\n",
      "546/546 - 0s - loss: 0.3854 - accuracy: 0.8590 - val_loss: 0.4472 - val_accuracy: 0.8351\n",
      "Epoch 22/200\n",
      "546/546 - 0s - loss: 0.3816 - accuracy: 0.8590 - val_loss: 0.4446 - val_accuracy: 0.8351\n",
      "Epoch 23/200\n",
      "546/546 - 0s - loss: 0.3779 - accuracy: 0.8590 - val_loss: 0.4468 - val_accuracy: 0.8351\n",
      "Epoch 24/200\n",
      "546/546 - 0s - loss: 0.3762 - accuracy: 0.8590 - val_loss: 0.4469 - val_accuracy: 0.8351\n"
     ]
    },
    {
     "data": {
      "text/plain": [
       "<tensorflow.python.keras.callbacks.History at 0x1e3451d8888>"
      ]
     },
     "execution_count": 27,
     "metadata": {},
     "output_type": "execute_result"
    }
   ],
   "source": [
    "batch_size = 32\n",
    "max_epochs = 200\n",
    "\n",
    "model = Sequential([\n",
    "        Dense(10, input_dim = inputs.shape[1], activation='relu'),\n",
    "        Dense(1, activation='sigmoid')])\n",
    "\n",
    "model.compile(optimizer='adam', loss='binary_crossentropy', metrics=['accuracy'])\n",
    "\n",
    "validation_split = 0.15\n",
    "early_stopping = tf.keras.callbacks.EarlyStopping(patience=2)\n",
    "\n",
    "model.fit(X_train, y_train,\n",
    "          batch_size = batch_size,\n",
    "          epochs = max_epochs,\n",
    "          validation_split = validation_split,\n",
    "          callbacks=[early_stopping],\n",
    "          verbose=2)"
   ]
  },
  {
   "cell_type": "code",
   "execution_count": 28,
   "metadata": {},
   "outputs": [
    {
     "name": "stdout",
     "output_type": "stream",
     "text": [
      "Train loss: 0.39. Train accuracy: 85.69%\n",
      "CV loss: 0.43. CV accuracy: 81.58%\n"
     ]
    }
   ],
   "source": [
    "train_loss, train_accuracy = model.evaluate(X_train, y_train, verbose=0)\n",
    "cv_loss, cv_accuracy = model.evaluate(X_cv, y_cv, verbose=0)\n",
    "\n",
    "print('Train loss: {0:.2f}. Train accuracy: {1:.2f}%'.format(train_loss, train_accuracy*100))\n",
    "print('CV loss: {0:.2f}. CV accuracy: {1:.2f}%'.format(cv_loss, cv_accuracy*100))"
   ]
  },
  {
   "cell_type": "code",
   "execution_count": 29,
   "metadata": {},
   "outputs": [
    {
     "name": "stdout",
     "output_type": "stream",
     "text": [
      "              precision    recall  f1-score   support\n",
      "\n",
      "           0      0.775     0.917     0.840        60\n",
      "           1      0.884     0.704     0.784        54\n",
      "\n",
      "    accuracy                          0.816       114\n",
      "   macro avg      0.829     0.810     0.812       114\n",
      "weighted avg      0.826     0.816     0.813       114\n",
      "\n"
     ]
    }
   ],
   "source": [
    "pred = model.predict(X_cv) \n",
    "pred = [0 if x <0.5 else 1 for x in pred]\n",
    "print(classification_report(y_cv, pred, digits=3))"
   ]
  },
  {
   "cell_type": "markdown",
   "metadata": {},
   "source": [
    "#### Param tuning"
   ]
  },
  {
   "cell_type": "markdown",
   "metadata": {},
   "source": [
    "##### Optimizer = ADAM"
   ]
  },
  {
   "cell_type": "code",
   "execution_count": 93,
   "metadata": {},
   "outputs": [],
   "source": [
    "def create_model(optimizer = 'adam'):\n",
    "    # create model\n",
    "    model = Sequential()\n",
    "    model.add(Dense(10, input_dim=inputs.shape[1], activation='relu'))\n",
    "    model.add(Dense(1, activation='sigmoid'))\n",
    "    # Compile model\n",
    "    model.compile(loss='binary_crossentropy', optimizer=optimizer, metrics=['accuracy'])\n",
    "    return model"
   ]
  },
  {
   "cell_type": "code",
   "execution_count": 99,
   "metadata": {},
   "outputs": [],
   "source": [
    "model = KerasClassifier(build_fn=create_model, \n",
    "                        verbose=0, epochs=30, batch_size=32)"
   ]
  },
  {
   "cell_type": "code",
   "execution_count": 100,
   "metadata": {},
   "outputs": [],
   "source": [
    "optimizer = ['SGD', 'RMSprop', 'Adagrad', 'Adadelta', 'Adam', 'Adamax', 'Nadam']\n",
    "param_grid = dict(optimizer = optimizer)\n",
    "\n",
    "grid = GridSearchCV(estimator=model, param_grid=param_grid, n_jobs=-1, cv=5)\n",
    "grid_result = grid.fit(X, Y)"
   ]
  },
  {
   "cell_type": "code",
   "execution_count": 101,
   "metadata": {
    "collapsed": true
   },
   "outputs": [
    {
     "name": "stdout",
     "output_type": "stream",
     "text": [
      "Best: 0.790576 using {'optimizer': 'Adam'}\n",
      "0.773848 (0.021496) with: {'optimizer': 'SGD'}\n",
      "0.788756 (0.021450) with: {'optimizer': 'RMSprop'}\n",
      "0.678457 (0.047148) with: {'optimizer': 'Adagrad'}\n",
      "0.542171 (0.054185) with: {'optimizer': 'Adadelta'}\n",
      "0.790576 (0.030966) with: {'optimizer': 'Adam'}\n",
      "0.779466 (0.016994) with: {'optimizer': 'Adamax'}\n",
      "0.781244 (0.024752) with: {'optimizer': 'Nadam'}\n"
     ]
    }
   ],
   "source": [
    "# summarize results\n",
    "print(\"Best: %f using %s\" % (grid_result.best_score_, grid_result.best_params_))\n",
    "means = grid_result.cv_results_['mean_test_score']\n",
    "stds = grid_result.cv_results_['std_test_score']\n",
    "params = grid_result.cv_results_['params']\n",
    "for mean, stdev, param in zip(means, stds, params):\n",
    "    print(\"%f (%f) with: %r\" % (mean, stdev, param))"
   ]
  },
  {
   "cell_type": "markdown",
   "metadata": {},
   "source": [
    "##### WEIGHT INIT - 'lecun_uniform'"
   ]
  },
  {
   "cell_type": "code",
   "execution_count": 43,
   "metadata": {},
   "outputs": [],
   "source": [
    "def create_model(init_mode = 'uniform'):\n",
    "    # create model\n",
    "    model = Sequential()\n",
    "    model.add(Dense(10, input_dim=inputs.shape[1], \n",
    "                    kernel_initializer=init_mode, \n",
    "                    activation='relu'))\n",
    "    model.add(Dense(1, kernel_initializer=init_mode, \n",
    "                    activation='sigmoid'))\n",
    "    # Compile model\n",
    "    model.compile(loss='binary_crossentropy', \n",
    "                  optimizer='adam', \n",
    "                  metrics=['accuracy'])\n",
    "    return model"
   ]
  },
  {
   "cell_type": "code",
   "execution_count": 44,
   "metadata": {},
   "outputs": [],
   "source": [
    "model = KerasClassifier(build_fn=create_model, \n",
    "                        verbose=0, epochs=30, batch_size=32)"
   ]
  },
  {
   "cell_type": "code",
   "execution_count": 45,
   "metadata": {},
   "outputs": [],
   "source": [
    "init_mode = ['lecun_uniform', 'glorot_normal', 'glorot_uniform', 'he_uniform']\n",
    "#init_mode = ['uniform', 'lecun_uniform', 'normal', 'zero', 'glorot_normal', 'glorot_uniform', 'he_normal', 'he_uniform']\n",
    "\n",
    "param_grid = dict(init_mode = init_mode)\n",
    "\n",
    "grid = GridSearchCV(estimator=model, param_grid=param_grid, n_jobs=-1, cv=5)\n",
    "grid_result = grid.fit(X, Y)"
   ]
  },
  {
   "cell_type": "code",
   "execution_count": 46,
   "metadata": {
    "scrolled": true
   },
   "outputs": [
    {
     "name": "stdout",
     "output_type": "stream",
     "text": [
      "Best: 0.849355 using {'init_mode': 'lecun_uniform'}\n",
      "0.849355 (0.021776) with: {'init_mode': 'lecun_uniform'}\n",
      "0.840119 (0.021736) with: {'init_mode': 'glorot_normal'}\n",
      "0.846697 (0.023796) with: {'init_mode': 'glorot_uniform'}\n",
      "0.848066 (0.018774) with: {'init_mode': 'he_uniform'}\n"
     ]
    }
   ],
   "source": [
    "# summarize results\n",
    "print(\"Best: %f using %s\" % (grid_result.best_score_, grid_result.best_params_))\n",
    "means = grid_result.cv_results_['mean_test_score']\n",
    "stds = grid_result.cv_results_['std_test_score']\n",
    "params = grid_result.cv_results_['params']\n",
    "for mean, stdev, param in zip(means, stds, params):\n",
    "    print(\"%f (%f) with: %r\" % (mean, stdev, param))\n",
    "    \n",
    "#Best: 0.853337 using {'init_mode': 'he_uniform'}"
   ]
  },
  {
   "cell_type": "markdown",
   "metadata": {},
   "source": [
    "##### activation function - 'relu'"
   ]
  },
  {
   "cell_type": "code",
   "execution_count": 47,
   "metadata": {},
   "outputs": [],
   "source": [
    "def create_model(activation = 'relu'):\n",
    "    # create model\n",
    "    model = Sequential()\n",
    "    model.add(Dense(10, input_dim=inputs.shape[1], \n",
    "                    kernel_initializer='lecun_uniform', \n",
    "                    activation=activation))\n",
    "    model.add(Dense(1, kernel_initializer='lecun_uniform', \n",
    "                    activation='sigmoid'))\n",
    "    # Compile model\n",
    "    model.compile(loss='binary_crossentropy', \n",
    "                  optimizer='adam', \n",
    "                  metrics=['accuracy'])\n",
    "    return model"
   ]
  },
  {
   "cell_type": "code",
   "execution_count": 48,
   "metadata": {},
   "outputs": [],
   "source": [
    "model = KerasClassifier(build_fn=create_model, \n",
    "                        verbose=0, epochs=30, batch_size=32)"
   ]
  },
  {
   "cell_type": "code",
   "execution_count": 50,
   "metadata": {
    "scrolled": true
   },
   "outputs": [],
   "source": [
    "activation = ['relu', 'tanh', 'sigmoid']\n",
    "#activation = ['softmax', 'softplus', 'softsign', 'relu', 'tanh', 'sigmoid', 'hard_sigmoid', 'linear']\n",
    "\n",
    "param_grid = dict(activation=activation)\n",
    "\n",
    "grid = GridSearchCV(estimator=model, param_grid=param_grid, n_jobs=-1, cv=5)\n",
    "grid_result = grid.fit(X, Y)"
   ]
  },
  {
   "cell_type": "code",
   "execution_count": 51,
   "metadata": {
    "scrolled": true
   },
   "outputs": [
    {
     "name": "stdout",
     "output_type": "stream",
     "text": [
      "Best: 0.840084 using {'activation': 'relu'}\n",
      "0.840084 (0.030349) with: {'activation': 'relu'}\n",
      "0.838759 (0.027375) with: {'activation': 'tanh'}\n",
      "0.821593 (0.023776) with: {'activation': 'sigmoid'}\n"
     ]
    }
   ],
   "source": [
    "# summarize results\n",
    "print(\"Best: %f using %s\" % (grid_result.best_score_, grid_result.best_params_))\n",
    "means = grid_result.cv_results_['mean_test_score']\n",
    "stds = grid_result.cv_results_['std_test_score']\n",
    "params = grid_result.cv_results_['params']\n",
    "for mean, stdev, param in zip(means, stds, params):\n",
    "    print(\"%f (%f) with: %r\" % (mean, stdev, param))"
   ]
  },
  {
   "cell_type": "markdown",
   "metadata": {},
   "source": [
    "##### Drop-out - 0.2, max_norm(4)"
   ]
  },
  {
   "cell_type": "code",
   "execution_count": 59,
   "metadata": {},
   "outputs": [],
   "source": [
    "import tensorflow.keras"
   ]
  },
  {
   "cell_type": "code",
   "execution_count": 53,
   "metadata": {},
   "outputs": [],
   "source": [
    "from tensorflow.keras.constraints import max_norm"
   ]
  },
  {
   "cell_type": "code",
   "execution_count": 69,
   "metadata": {},
   "outputs": [],
   "source": [
    "def create_model(dropout_rate = 0, weight_constraint = 0):\n",
    "    # create model\n",
    "    model = Sequential()\n",
    "    model.add(Dense(30, input_dim=inputs.shape[1], \n",
    "                    kernel_initializer='lecun_uniform', \n",
    "                    kernel_constraint = max_norm(weight_constraint),\n",
    "                    activation='relu'))\n",
    "    model.add(Dropout(dropout_rate))\n",
    "    model.add(Dense(1, kernel_initializer='lecun_uniform', \n",
    "                    activation='sigmoid'))\n",
    "    # Compile model\n",
    "    model.compile(loss='binary_crossentropy', \n",
    "                  optimizer='adam', \n",
    "                  metrics=['accuracy'])\n",
    "    return model"
   ]
  },
  {
   "cell_type": "code",
   "execution_count": 70,
   "metadata": {},
   "outputs": [],
   "source": [
    "model = KerasClassifier(build_fn=create_model, \n",
    "                        verbose=0, epochs=30, batch_size=32)"
   ]
  },
  {
   "cell_type": "code",
   "execution_count": 71,
   "metadata": {},
   "outputs": [],
   "source": [
    "weight_constraint = [1, 3, 5]\n",
    "dropout_rate = [0.0, 0.2, 0.4]\n",
    "param_grid = dict(dropout_rate=dropout_rate, weight_constraint=weight_constraint)\n",
    "\n",
    "grid = GridSearchCV(estimator=model, param_grid=param_grid, n_jobs=-1, cv=4)\n",
    "grid_result = grid.fit(X, Y)"
   ]
  },
  {
   "cell_type": "code",
   "execution_count": 72,
   "metadata": {
    "scrolled": true
   },
   "outputs": [
    {
     "name": "stdout",
     "output_type": "stream",
     "text": [
      "Best: 0.848079 using {'dropout_rate': 0.0, 'weight_constraint': 1}\n",
      "0.848079 (0.017345) with: {'dropout_rate': 0.0, 'weight_constraint': 1}\n",
      "0.844110 (0.017034) with: {'dropout_rate': 0.0, 'weight_constraint': 3}\n",
      "0.848079 (0.010242) with: {'dropout_rate': 0.0, 'weight_constraint': 5}\n",
      "0.842781 (0.017854) with: {'dropout_rate': 0.2, 'weight_constraint': 1}\n",
      "0.842781 (0.013885) with: {'dropout_rate': 0.2, 'weight_constraint': 3}\n",
      "0.838819 (0.017094) with: {'dropout_rate': 0.2, 'weight_constraint': 5}\n",
      "0.840121 (0.026474) with: {'dropout_rate': 0.4, 'weight_constraint': 1}\n",
      "0.842774 (0.017506) with: {'dropout_rate': 0.4, 'weight_constraint': 3}\n",
      "0.833514 (0.019534) with: {'dropout_rate': 0.4, 'weight_constraint': 5}\n"
     ]
    }
   ],
   "source": [
    "# summarize results\n",
    "print(\"Best: %f using %s\" % (grid_result.best_score_, grid_result.best_params_))\n",
    "means = grid_result.cv_results_['mean_test_score']\n",
    "stds = grid_result.cv_results_['std_test_score']\n",
    "params = grid_result.cv_results_['params']\n",
    "for mean, stdev, param in zip(means, stds, params):\n",
    "    print(\"%f (%f) with: %r\" % (mean, stdev, param))"
   ]
  },
  {
   "cell_type": "markdown",
   "metadata": {},
   "source": [
    "#### Neurons - adding another layer did not outperform"
   ]
  },
  {
   "cell_type": "code",
   "execution_count": 146,
   "metadata": {},
   "outputs": [],
   "source": [
    "def create_model(neurons1 = 1, neurons2 = 1):\n",
    "    # create model\n",
    "    model = Sequential()\n",
    "    model.add(Dense(neurons1, input_dim=inputs.shape[1], \n",
    "                    kernel_initializer='lecun_uniform', \n",
    "                    kernel_constraint = max_norm(4),\n",
    "                    activation='relu'))\n",
    "    model.add(Dropout(0.2))\n",
    "    model.add(Dense(neurons2, input_dim=inputs.shape[1], \n",
    "                    kernel_initializer='lecun_uniform', \n",
    "                    kernel_constraint = max_norm(4),\n",
    "                    activation='relu'))\n",
    "    model.add(Dropout(0.2))\n",
    "    model.add(Dense(1, kernel_initializer='lecun_uniform', \n",
    "                    activation='sigmoid'))\n",
    "    # Compile model\n",
    "    model.compile(loss='binary_crossentropy', \n",
    "                  optimizer='adam', \n",
    "                  metrics=['accuracy'])\n",
    "    return model"
   ]
  },
  {
   "cell_type": "code",
   "execution_count": 147,
   "metadata": {},
   "outputs": [],
   "source": [
    "model = KerasClassifier(build_fn=create_model, \n",
    "                        verbose=0, epochs=100, batch_size=32)"
   ]
  },
  {
   "cell_type": "code",
   "execution_count": 148,
   "metadata": {},
   "outputs": [],
   "source": [
    "neurons = [1, 5, 10, 15, 20, 25, 30]\n",
    "param_grid = dict(neurons1=neurons, neurons2=neurons)\n",
    "\n",
    "grid = GridSearchCV(estimator=model, param_grid=param_grid, n_jobs=-1, cv=3)\n",
    "grid_result = grid.fit(X, Y)"
   ]
  },
  {
   "cell_type": "code",
   "execution_count": 149,
   "metadata": {
    "collapsed": true
   },
   "outputs": [
    {
     "name": "stdout",
     "output_type": "stream",
     "text": [
      "Best: 0.836508 using {'neurons1': 10, 'neurons2': 30}\n",
      "0.636508 (0.095423) with: {'neurons1': 1, 'neurons2': 1}\n",
      "0.807937 (0.028659) with: {'neurons1': 1, 'neurons2': 5}\n",
      "0.809524 (0.010287) with: {'neurons1': 1, 'neurons2': 10}\n",
      "0.806349 (0.013654) with: {'neurons1': 1, 'neurons2': 15}\n",
      "0.801587 (0.018374) with: {'neurons1': 1, 'neurons2': 20}\n",
      "0.806349 (0.011878) with: {'neurons1': 1, 'neurons2': 25}\n",
      "0.814286 (0.031105) with: {'neurons1': 1, 'neurons2': 30}\n",
      "0.815873 (0.011224) with: {'neurons1': 5, 'neurons2': 1}\n",
      "0.819048 (0.023328) with: {'neurons1': 5, 'neurons2': 5}\n",
      "0.815873 (0.016187) with: {'neurons1': 5, 'neurons2': 10}\n",
      "0.826984 (0.005939) with: {'neurons1': 5, 'neurons2': 15}\n",
      "0.822222 (0.011878) with: {'neurons1': 5, 'neurons2': 20}\n",
      "0.809524 (0.003888) with: {'neurons1': 5, 'neurons2': 25}\n",
      "0.817460 (0.023757) with: {'neurons1': 5, 'neurons2': 30}\n",
      "0.796825 (0.022448) with: {'neurons1': 10, 'neurons2': 1}\n",
      "0.828571 (0.003888) with: {'neurons1': 10, 'neurons2': 5}\n",
      "0.825397 (0.009785) with: {'neurons1': 10, 'neurons2': 10}\n",
      "0.815873 (0.013654) with: {'neurons1': 10, 'neurons2': 15}\n",
      "0.825397 (0.005939) with: {'neurons1': 10, 'neurons2': 20}\n",
      "0.820635 (0.008979) with: {'neurons1': 10, 'neurons2': 25}\n",
      "0.836508 (0.013654) with: {'neurons1': 10, 'neurons2': 30}\n",
      "0.822222 (0.011878) with: {'neurons1': 15, 'neurons2': 1}\n",
      "0.812698 (0.009785) with: {'neurons1': 15, 'neurons2': 5}\n",
      "0.820635 (0.005939) with: {'neurons1': 15, 'neurons2': 10}\n",
      "0.828571 (0.016948) with: {'neurons1': 15, 'neurons2': 15}\n",
      "0.833333 (0.010287) with: {'neurons1': 15, 'neurons2': 20}\n",
      "0.815873 (0.013654) with: {'neurons1': 15, 'neurons2': 25}\n",
      "0.817460 (0.012498) with: {'neurons1': 15, 'neurons2': 30}\n",
      "0.815873 (0.013654) with: {'neurons1': 20, 'neurons2': 1}\n",
      "0.823810 (0.007776) with: {'neurons1': 20, 'neurons2': 5}\n",
      "0.817460 (0.017958) with: {'neurons1': 20, 'neurons2': 10}\n",
      "0.815873 (0.012498) with: {'neurons1': 20, 'neurons2': 15}\n",
      "0.830159 (0.002245) with: {'neurons1': 20, 'neurons2': 20}\n",
      "0.812698 (0.005939) with: {'neurons1': 20, 'neurons2': 25}\n",
      "0.828571 (0.010287) with: {'neurons1': 20, 'neurons2': 30}\n",
      "0.815873 (0.013654) with: {'neurons1': 25, 'neurons2': 1}\n",
      "0.830159 (0.008979) with: {'neurons1': 25, 'neurons2': 5}\n",
      "0.826984 (0.012498) with: {'neurons1': 25, 'neurons2': 10}\n",
      "0.833333 (0.017817) with: {'neurons1': 25, 'neurons2': 15}\n",
      "0.822222 (0.013654) with: {'neurons1': 25, 'neurons2': 20}\n",
      "0.820635 (0.009785) with: {'neurons1': 25, 'neurons2': 25}\n",
      "0.825397 (0.017532) with: {'neurons1': 25, 'neurons2': 30}\n",
      "0.833333 (0.020574) with: {'neurons1': 30, 'neurons2': 1}\n",
      "0.823810 (0.010287) with: {'neurons1': 30, 'neurons2': 5}\n",
      "0.819048 (0.003888) with: {'neurons1': 30, 'neurons2': 10}\n",
      "0.823810 (0.010287) with: {'neurons1': 30, 'neurons2': 15}\n",
      "0.817460 (0.021414) with: {'neurons1': 30, 'neurons2': 20}\n",
      "0.830159 (0.011878) with: {'neurons1': 30, 'neurons2': 25}\n",
      "0.820635 (0.013654) with: {'neurons1': 30, 'neurons2': 30}\n"
     ]
    }
   ],
   "source": [
    "# summarize results\n",
    "print(\"Best: %f using %s\" % (grid_result.best_score_, grid_result.best_params_))\n",
    "means = grid_result.cv_results_['mean_test_score']\n",
    "stds = grid_result.cv_results_['std_test_score']\n",
    "params = grid_result.cv_results_['params']\n",
    "for mean, stdev, param in zip(means, stds, params):\n",
    "    print(\"%f (%f) with: %r\" % (mean, stdev, param))"
   ]
  },
  {
   "cell_type": "markdown",
   "metadata": {},
   "source": [
    "##### neurons w/ 1 layer -- 25"
   ]
  },
  {
   "cell_type": "code",
   "execution_count": 65,
   "metadata": {},
   "outputs": [],
   "source": [
    "def create_model(neurons = 1):\n",
    "    # create model\n",
    "    model = Sequential()\n",
    "    model.add(Dense(neurons, input_dim=inputs.shape[1], \n",
    "                    kernel_initializer='lecun_uniform', \n",
    "                    kernel_constraint = max_norm(5),\n",
    "                    activation='relu'))\n",
    "    #model.add(Dropout(0.2))\n",
    "    model.add(Dense(1, kernel_initializer='lecun_uniform', \n",
    "                    activation='sigmoid'))\n",
    "    # Compile model\n",
    "    model.compile(loss='binary_crossentropy', \n",
    "                  optimizer='adam', \n",
    "                  metrics=['accuracy'])\n",
    "    return model"
   ]
  },
  {
   "cell_type": "code",
   "execution_count": 66,
   "metadata": {},
   "outputs": [],
   "source": [
    "model = KerasClassifier(build_fn=create_model, \n",
    "                        verbose=0, epochs=30, batch_size=32)"
   ]
  },
  {
   "cell_type": "code",
   "execution_count": 67,
   "metadata": {},
   "outputs": [],
   "source": [
    "neurons = [10, 15, 20, 25, 30]\n",
    "param_grid = dict(neurons=neurons)\n",
    "\n",
    "grid = GridSearchCV(estimator=model, param_grid=param_grid, n_jobs=-1, cv=4)\n",
    "grid_result = grid.fit(X, Y)"
   ]
  },
  {
   "cell_type": "code",
   "execution_count": 68,
   "metadata": {},
   "outputs": [
    {
     "name": "stdout",
     "output_type": "stream",
     "text": [
      "Best: 0.849394 using {'neurons': 30}\n",
      "0.830883 (0.014776) with: {'neurons': 10}\n",
      "0.844117 (0.014288) with: {'neurons': 15}\n",
      "0.845440 (0.015616) with: {'neurons': 20}\n",
      "0.844110 (0.015753) with: {'neurons': 25}\n",
      "0.849394 (0.014354) with: {'neurons': 30}\n"
     ]
    }
   ],
   "source": [
    "# summarize results\n",
    "print(\"Best: %f using %s\" % (grid_result.best_score_, grid_result.best_params_))\n",
    "means = grid_result.cv_results_['mean_test_score']\n",
    "stds = grid_result.cv_results_['std_test_score']\n",
    "params = grid_result.cv_results_['params']\n",
    "for mean, stdev, param in zip(means, stds, params):\n",
    "    print(\"%f (%f) with: %r\" % (mean, stdev, param))"
   ]
  },
  {
   "cell_type": "markdown",
   "metadata": {},
   "source": [
    "##### Batch size & epochs"
   ]
  },
  {
   "cell_type": "code",
   "execution_count": 73,
   "metadata": {},
   "outputs": [],
   "source": [
    "def create_model():\n",
    "    # create model\n",
    "    model = Sequential()\n",
    "    model.add(Dense(30, input_dim=inputs.shape[1], \n",
    "                    kernel_initializer='lecun_uniform', \n",
    "                    kernel_constraint = max_norm(5),\n",
    "                    activation='relu'))\n",
    "    #model.add(Dropout(0.2))\n",
    "    model.add(Dense(1, kernel_initializer='lecun_uniform', \n",
    "                    activation='sigmoid'))\n",
    "    # Compile model\n",
    "    model.compile(loss='binary_crossentropy', \n",
    "                  optimizer='adam', \n",
    "                  metrics=['accuracy'])\n",
    "    return model"
   ]
  },
  {
   "cell_type": "code",
   "execution_count": 74,
   "metadata": {
    "scrolled": true
   },
   "outputs": [],
   "source": [
    "model =  KerasClassifier(build_fn=create_model, epochs = 30,\n",
    "                           verbose=0)"
   ]
  },
  {
   "cell_type": "code",
   "execution_count": 76,
   "metadata": {},
   "outputs": [],
   "source": [
    "batch_size = [40, 60, 80, 100]\n",
    "epochs = [100, 150, 200]\n",
    "param_grid = dict(batch_size=batch_size)\n",
    "grid = GridSearchCV(estimator=model, param_grid=param_grid, \n",
    "                    n_jobs=-1, cv=4)\n",
    "\n",
    "grid_result = grid.fit(X, Y)"
   ]
  },
  {
   "cell_type": "code",
   "execution_count": 77,
   "metadata": {},
   "outputs": [
    {
     "name": "stdout",
     "output_type": "stream",
     "text": [
      "Best: 0.849373 using {'batch_size': 60}\n",
      "0.840135 (0.025054) with: {'batch_size': 40}\n",
      "0.849373 (0.017175) with: {'batch_size': 60}\n",
      "0.826901 (0.022230) with: {'batch_size': 80}\n",
      "0.824255 (0.024922) with: {'batch_size': 100}\n"
     ]
    }
   ],
   "source": [
    "# summarize results\n",
    "print(\"Best: %f using %s\" % (grid_result.best_score_, grid_result.best_params_))\n",
    "means = grid_result.cv_results_['mean_test_score']\n",
    "stds = grid_result.cv_results_['std_test_score']\n",
    "params = grid_result.cv_results_['params']\n",
    "for mean, stdev, param in zip(means, stds, params):\n",
    "    print(\"%f (%f) with: %r\" % (mean, stdev, param))"
   ]
  },
  {
   "cell_type": "markdown",
   "metadata": {},
   "source": [
    "##### Learning rate"
   ]
  },
  {
   "cell_type": "code",
   "execution_count": 200,
   "metadata": {},
   "outputs": [],
   "source": [
    "from tensorflow.keras.optimizers import SGD"
   ]
  },
  {
   "cell_type": "code",
   "execution_count": 204,
   "metadata": {},
   "outputs": [],
   "source": [
    "def create_model(learn_rate = 0.01, momentum=0):\n",
    "    # create model\n",
    "    model = Sequential()\n",
    "    model.add(Dense(25, input_dim=inputs.shape[1], \n",
    "                    kernel_initializer='lecun_uniform', \n",
    "                    kernel_constraint = max_norm(4),\n",
    "                    activation='relu'))\n",
    "    model.add(Dropout(0.2))\n",
    "    model.add(Dense(1, kernel_initializer='lecun_uniform', \n",
    "                    activation='sigmoid'))\n",
    "    optimizer = SGD(lr=learn_rate, momentum=momentum)\n",
    "    # Compile model\n",
    "    model.compile(loss='binary_crossentropy', \n",
    "                  optimizer=optimizer, \n",
    "                  metrics=['accuracy'])\n",
    "    return model"
   ]
  },
  {
   "cell_type": "code",
   "execution_count": 205,
   "metadata": {},
   "outputs": [],
   "source": [
    "model = KerasClassifier(build_fn=create_model, \n",
    "                        verbose=0, epochs=100, batch_size=60)"
   ]
  },
  {
   "cell_type": "code",
   "execution_count": 206,
   "metadata": {},
   "outputs": [],
   "source": [
    "learn_rate = [0.001, 0.01, 0.1, 0.2, 0.3]\n",
    "momentum = [0.0, 0.2, 0.4, 0.6, 0.8, 0.9]\n",
    "param_grid = dict(learn_rate=learn_rate, momentum=momentum)\n",
    "\n",
    "grid = GridSearchCV(estimator=model, param_grid=param_grid, n_jobs=-1, cv=3)\n",
    "grid_result = grid.fit(X, Y)"
   ]
  },
  {
   "cell_type": "code",
   "execution_count": 207,
   "metadata": {},
   "outputs": [
    {
     "name": "stdout",
     "output_type": "stream",
     "text": [
      "Best: 0.836508 using {'learn_rate': 0.2, 'momentum': 0.0}\n",
      "0.715873 (0.035917) with: {'learn_rate': 0.001, 'momentum': 0.0}\n",
      "0.693651 (0.072253) with: {'learn_rate': 0.001, 'momentum': 0.2}\n",
      "0.766667 (0.029354) with: {'learn_rate': 0.001, 'momentum': 0.4}\n",
      "0.760317 (0.008094) with: {'learn_rate': 0.001, 'momentum': 0.6}\n",
      "0.787302 (0.004490) with: {'learn_rate': 0.001, 'momentum': 0.8}\n",
      "0.787302 (0.008094) with: {'learn_rate': 0.001, 'momentum': 0.9}\n",
      "0.787302 (0.014720) with: {'learn_rate': 0.01, 'momentum': 0.0}\n",
      "0.800000 (0.014019) with: {'learn_rate': 0.01, 'momentum': 0.2}\n",
      "0.804762 (0.006734) with: {'learn_rate': 0.01, 'momentum': 0.4}\n",
      "0.817460 (0.026466) with: {'learn_rate': 0.01, 'momentum': 0.6}\n",
      "0.830159 (0.022782) with: {'learn_rate': 0.01, 'momentum': 0.8}\n",
      "0.831746 (0.009785) with: {'learn_rate': 0.01, 'momentum': 0.9}\n",
      "0.830159 (0.012498) with: {'learn_rate': 0.1, 'momentum': 0.0}\n",
      "0.828571 (0.010287) with: {'learn_rate': 0.1, 'momentum': 0.2}\n",
      "0.830159 (0.008094) with: {'learn_rate': 0.1, 'momentum': 0.4}\n",
      "0.830159 (0.013654) with: {'learn_rate': 0.1, 'momentum': 0.6}\n",
      "0.825397 (0.011224) with: {'learn_rate': 0.1, 'momentum': 0.8}\n",
      "0.819048 (0.017817) with: {'learn_rate': 0.1, 'momentum': 0.9}\n",
      "0.836508 (0.005939) with: {'learn_rate': 0.2, 'momentum': 0.0}\n",
      "0.812698 (0.025888) with: {'learn_rate': 0.2, 'momentum': 0.2}\n",
      "0.825397 (0.017532) with: {'learn_rate': 0.2, 'momentum': 0.4}\n",
      "0.830159 (0.017958) with: {'learn_rate': 0.2, 'momentum': 0.6}\n",
      "0.817460 (0.015713) with: {'learn_rate': 0.2, 'momentum': 0.8}\n",
      "0.803175 (0.012498) with: {'learn_rate': 0.2, 'momentum': 0.9}\n",
      "0.817460 (0.005939) with: {'learn_rate': 0.3, 'momentum': 0.0}\n",
      "0.814286 (0.017817) with: {'learn_rate': 0.3, 'momentum': 0.2}\n",
      "0.811111 (0.019952) with: {'learn_rate': 0.3, 'momentum': 0.4}\n",
      "0.822222 (0.021414) with: {'learn_rate': 0.3, 'momentum': 0.6}\n",
      "0.814286 (0.027217) with: {'learn_rate': 0.3, 'momentum': 0.8}\n",
      "0.820635 (0.005939) with: {'learn_rate': 0.3, 'momentum': 0.9}\n"
     ]
    }
   ],
   "source": [
    "# summarize results\n",
    "print(\"Best: %f using %s\" % (grid_result.best_score_, grid_result.best_params_))\n",
    "means = grid_result.cv_results_['mean_test_score']\n",
    "stds = grid_result.cv_results_['std_test_score']\n",
    "params = grid_result.cv_results_['params']\n",
    "for mean, stdev, param in zip(means, stds, params):\n",
    "    print(\"%f (%f) with: %r\" % (mean, stdev, param))"
   ]
  },
  {
   "cell_type": "markdown",
   "metadata": {},
   "source": [
    "#### Eval"
   ]
  },
  {
   "cell_type": "code",
   "execution_count": 87,
   "metadata": {},
   "outputs": [
    {
     "name": "stdout",
     "output_type": "stream",
     "text": [
      "Train on 643 samples, validate on 114 samples\n",
      "Epoch 1/200\n",
      "643/643 - 2s - loss: 0.6625 - accuracy: 0.6205 - val_loss: 0.6160 - val_accuracy: 0.7105\n",
      "Epoch 2/200\n",
      "643/643 - 0s - loss: 0.6233 - accuracy: 0.6423 - val_loss: 0.5888 - val_accuracy: 0.7281\n",
      "Epoch 3/200\n",
      "643/643 - 0s - loss: 0.5941 - accuracy: 0.6703 - val_loss: 0.5658 - val_accuracy: 0.7456\n",
      "Epoch 4/200\n",
      "643/643 - 0s - loss: 0.5665 - accuracy: 0.7278 - val_loss: 0.5479 - val_accuracy: 0.7982\n",
      "Epoch 5/200\n",
      "643/643 - 0s - loss: 0.5423 - accuracy: 0.7574 - val_loss: 0.5333 - val_accuracy: 0.8070\n",
      "Epoch 6/200\n",
      "643/643 - 0s - loss: 0.5206 - accuracy: 0.7885 - val_loss: 0.5200 - val_accuracy: 0.8070\n",
      "Epoch 7/200\n",
      "643/643 - 0s - loss: 0.5010 - accuracy: 0.7947 - val_loss: 0.5082 - val_accuracy: 0.8070\n",
      "Epoch 8/200\n",
      "643/643 - 0s - loss: 0.4828 - accuracy: 0.7994 - val_loss: 0.4978 - val_accuracy: 0.8070\n",
      "Epoch 9/200\n",
      "643/643 - 0s - loss: 0.4667 - accuracy: 0.8196 - val_loss: 0.4897 - val_accuracy: 0.8070\n",
      "Epoch 10/200\n",
      "643/643 - 0s - loss: 0.4513 - accuracy: 0.8336 - val_loss: 0.4823 - val_accuracy: 0.8070\n",
      "Epoch 11/200\n",
      "643/643 - 0s - loss: 0.4378 - accuracy: 0.8429 - val_loss: 0.4757 - val_accuracy: 0.7982\n",
      "Epoch 12/200\n",
      "643/643 - 0s - loss: 0.4268 - accuracy: 0.8445 - val_loss: 0.4704 - val_accuracy: 0.7807\n",
      "Epoch 13/200\n",
      "643/643 - 0s - loss: 0.4163 - accuracy: 0.8398 - val_loss: 0.4655 - val_accuracy: 0.7807\n",
      "Epoch 14/200\n",
      "643/643 - 0s - loss: 0.4080 - accuracy: 0.8429 - val_loss: 0.4612 - val_accuracy: 0.7807\n",
      "Epoch 15/200\n",
      "643/643 - 0s - loss: 0.4008 - accuracy: 0.8398 - val_loss: 0.4578 - val_accuracy: 0.7807\n",
      "Epoch 16/200\n",
      "643/643 - 0s - loss: 0.3946 - accuracy: 0.8476 - val_loss: 0.4549 - val_accuracy: 0.7895\n",
      "Epoch 17/200\n",
      "643/643 - 0s - loss: 0.3888 - accuracy: 0.8476 - val_loss: 0.4515 - val_accuracy: 0.7895\n",
      "Epoch 18/200\n",
      "643/643 - 0s - loss: 0.3843 - accuracy: 0.8476 - val_loss: 0.4492 - val_accuracy: 0.7895\n",
      "Epoch 19/200\n",
      "643/643 - 0s - loss: 0.3801 - accuracy: 0.8507 - val_loss: 0.4461 - val_accuracy: 0.7895\n",
      "Epoch 20/200\n",
      "643/643 - 0s - loss: 0.3762 - accuracy: 0.8554 - val_loss: 0.4430 - val_accuracy: 0.7895\n",
      "Epoch 21/200\n",
      "643/643 - 0s - loss: 0.3731 - accuracy: 0.8569 - val_loss: 0.4402 - val_accuracy: 0.7807\n",
      "Epoch 22/200\n",
      "643/643 - 0s - loss: 0.3698 - accuracy: 0.8569 - val_loss: 0.4377 - val_accuracy: 0.7807\n",
      "Epoch 23/200\n",
      "643/643 - 0s - loss: 0.3670 - accuracy: 0.8585 - val_loss: 0.4357 - val_accuracy: 0.7807\n",
      "Epoch 24/200\n",
      "643/643 - 0s - loss: 0.3647 - accuracy: 0.8554 - val_loss: 0.4332 - val_accuracy: 0.7895\n",
      "Epoch 25/200\n",
      "643/643 - 0s - loss: 0.3629 - accuracy: 0.8569 - val_loss: 0.4307 - val_accuracy: 0.7807\n",
      "Epoch 26/200\n",
      "643/643 - 0s - loss: 0.3606 - accuracy: 0.8585 - val_loss: 0.4281 - val_accuracy: 0.7807\n",
      "Epoch 27/200\n",
      "643/643 - 0s - loss: 0.3582 - accuracy: 0.8569 - val_loss: 0.4258 - val_accuracy: 0.7807\n",
      "Epoch 28/200\n",
      "643/643 - 0s - loss: 0.3567 - accuracy: 0.8616 - val_loss: 0.4231 - val_accuracy: 0.7895\n",
      "Epoch 29/200\n",
      "643/643 - 0s - loss: 0.3544 - accuracy: 0.8631 - val_loss: 0.4218 - val_accuracy: 0.7807\n",
      "Epoch 30/200\n",
      "643/643 - 0s - loss: 0.3532 - accuracy: 0.8616 - val_loss: 0.4195 - val_accuracy: 0.7895\n",
      "Epoch 31/200\n",
      "643/643 - 0s - loss: 0.3521 - accuracy: 0.8647 - val_loss: 0.4174 - val_accuracy: 0.7982\n",
      "Epoch 32/200\n",
      "643/643 - 0s - loss: 0.3498 - accuracy: 0.8663 - val_loss: 0.4154 - val_accuracy: 0.7895\n",
      "Epoch 33/200\n",
      "643/643 - 0s - loss: 0.3482 - accuracy: 0.8647 - val_loss: 0.4144 - val_accuracy: 0.7982\n",
      "Epoch 34/200\n",
      "643/643 - 0s - loss: 0.3472 - accuracy: 0.8663 - val_loss: 0.4125 - val_accuracy: 0.7982\n",
      "Epoch 35/200\n",
      "643/643 - 0s - loss: 0.3455 - accuracy: 0.8678 - val_loss: 0.4105 - val_accuracy: 0.7982\n",
      "Epoch 36/200\n",
      "643/643 - 0s - loss: 0.3442 - accuracy: 0.8647 - val_loss: 0.4081 - val_accuracy: 0.7982\n",
      "Epoch 37/200\n",
      "643/643 - 0s - loss: 0.3429 - accuracy: 0.8694 - val_loss: 0.4070 - val_accuracy: 0.7982\n",
      "Epoch 38/200\n",
      "643/643 - 0s - loss: 0.3419 - accuracy: 0.8694 - val_loss: 0.4052 - val_accuracy: 0.8070\n",
      "Epoch 39/200\n",
      "643/643 - 0s - loss: 0.3409 - accuracy: 0.8709 - val_loss: 0.4041 - val_accuracy: 0.8070\n",
      "Epoch 40/200\n",
      "643/643 - 0s - loss: 0.3397 - accuracy: 0.8709 - val_loss: 0.4036 - val_accuracy: 0.8158\n",
      "Epoch 41/200\n",
      "643/643 - 0s - loss: 0.3391 - accuracy: 0.8694 - val_loss: 0.4020 - val_accuracy: 0.8246\n",
      "Epoch 42/200\n",
      "643/643 - 0s - loss: 0.3382 - accuracy: 0.8740 - val_loss: 0.4008 - val_accuracy: 0.8246\n",
      "Epoch 43/200\n",
      "643/643 - 0s - loss: 0.3368 - accuracy: 0.8756 - val_loss: 0.3994 - val_accuracy: 0.8246\n",
      "Epoch 44/200\n",
      "643/643 - 0s - loss: 0.3377 - accuracy: 0.8694 - val_loss: 0.3980 - val_accuracy: 0.8246\n",
      "Epoch 45/200\n",
      "643/643 - 0s - loss: 0.3353 - accuracy: 0.8725 - val_loss: 0.3972 - val_accuracy: 0.8246\n",
      "Epoch 46/200\n",
      "643/643 - 0s - loss: 0.3343 - accuracy: 0.8756 - val_loss: 0.3960 - val_accuracy: 0.8246\n",
      "Epoch 47/200\n",
      "643/643 - 0s - loss: 0.3336 - accuracy: 0.8740 - val_loss: 0.3949 - val_accuracy: 0.8246\n",
      "Epoch 48/200\n",
      "643/643 - 0s - loss: 0.3326 - accuracy: 0.8740 - val_loss: 0.3937 - val_accuracy: 0.8246\n",
      "Epoch 49/200\n",
      "643/643 - 0s - loss: 0.3317 - accuracy: 0.8740 - val_loss: 0.3923 - val_accuracy: 0.8246\n",
      "Epoch 50/200\n",
      "643/643 - 0s - loss: 0.3307 - accuracy: 0.8756 - val_loss: 0.3911 - val_accuracy: 0.8246\n",
      "Epoch 51/200\n",
      "643/643 - 0s - loss: 0.3300 - accuracy: 0.8725 - val_loss: 0.3905 - val_accuracy: 0.8246\n",
      "Epoch 52/200\n",
      "643/643 - 0s - loss: 0.3297 - accuracy: 0.8756 - val_loss: 0.3892 - val_accuracy: 0.8246\n",
      "Epoch 53/200\n",
      "643/643 - 0s - loss: 0.3284 - accuracy: 0.8756 - val_loss: 0.3877 - val_accuracy: 0.8246\n",
      "Epoch 54/200\n",
      "643/643 - 0s - loss: 0.3277 - accuracy: 0.8771 - val_loss: 0.3868 - val_accuracy: 0.8246\n",
      "Epoch 55/200\n",
      "643/643 - 0s - loss: 0.3269 - accuracy: 0.8756 - val_loss: 0.3860 - val_accuracy: 0.8246\n",
      "Epoch 56/200\n",
      "643/643 - 0s - loss: 0.3262 - accuracy: 0.8756 - val_loss: 0.3857 - val_accuracy: 0.8246\n",
      "Epoch 57/200\n",
      "643/643 - 0s - loss: 0.3256 - accuracy: 0.8740 - val_loss: 0.3849 - val_accuracy: 0.8246\n",
      "Epoch 58/200\n",
      "643/643 - 0s - loss: 0.3248 - accuracy: 0.8740 - val_loss: 0.3844 - val_accuracy: 0.8246\n",
      "Epoch 59/200\n",
      "643/643 - 0s - loss: 0.3241 - accuracy: 0.8771 - val_loss: 0.3831 - val_accuracy: 0.8246\n",
      "Epoch 60/200\n",
      "643/643 - 0s - loss: 0.3234 - accuracy: 0.8771 - val_loss: 0.3827 - val_accuracy: 0.8246\n",
      "Epoch 61/200\n",
      "643/643 - 0s - loss: 0.3226 - accuracy: 0.8771 - val_loss: 0.3819 - val_accuracy: 0.8246\n",
      "Epoch 62/200\n",
      "643/643 - 0s - loss: 0.3219 - accuracy: 0.8771 - val_loss: 0.3800 - val_accuracy: 0.8246\n",
      "Epoch 63/200\n",
      "643/643 - 0s - loss: 0.3215 - accuracy: 0.8771 - val_loss: 0.3782 - val_accuracy: 0.8333\n",
      "Epoch 64/200\n",
      "643/643 - 0s - loss: 0.3206 - accuracy: 0.8802 - val_loss: 0.3781 - val_accuracy: 0.8333\n",
      "Epoch 65/200\n",
      "643/643 - 0s - loss: 0.3200 - accuracy: 0.8818 - val_loss: 0.3780 - val_accuracy: 0.8333\n",
      "Epoch 66/200\n",
      "643/643 - 0s - loss: 0.3194 - accuracy: 0.8802 - val_loss: 0.3768 - val_accuracy: 0.8333\n",
      "Epoch 67/200\n",
      "643/643 - 0s - loss: 0.3188 - accuracy: 0.8818 - val_loss: 0.3758 - val_accuracy: 0.8333\n",
      "Epoch 68/200\n",
      "643/643 - 0s - loss: 0.3178 - accuracy: 0.8834 - val_loss: 0.3749 - val_accuracy: 0.8333\n",
      "Epoch 69/200\n",
      "643/643 - 0s - loss: 0.3176 - accuracy: 0.8834 - val_loss: 0.3752 - val_accuracy: 0.8333\n",
      "Epoch 70/200\n",
      "643/643 - 0s - loss: 0.3168 - accuracy: 0.8834 - val_loss: 0.3736 - val_accuracy: 0.8333\n",
      "Epoch 71/200\n",
      "643/643 - 0s - loss: 0.3161 - accuracy: 0.8834 - val_loss: 0.3730 - val_accuracy: 0.8333\n",
      "Epoch 72/200\n",
      "643/643 - 0s - loss: 0.3156 - accuracy: 0.8834 - val_loss: 0.3719 - val_accuracy: 0.8333\n",
      "Epoch 73/200\n",
      "643/643 - 0s - loss: 0.3150 - accuracy: 0.8834 - val_loss: 0.3709 - val_accuracy: 0.8333\n",
      "Epoch 74/200\n",
      "643/643 - 0s - loss: 0.3145 - accuracy: 0.8834 - val_loss: 0.3700 - val_accuracy: 0.8333\n",
      "Epoch 75/200\n",
      "643/643 - 0s - loss: 0.3146 - accuracy: 0.8802 - val_loss: 0.3695 - val_accuracy: 0.8333\n",
      "Epoch 76/200\n",
      "643/643 - 0s - loss: 0.3131 - accuracy: 0.8818 - val_loss: 0.3697 - val_accuracy: 0.8333\n",
      "Epoch 77/200\n",
      "643/643 - 0s - loss: 0.3123 - accuracy: 0.8834 - val_loss: 0.3691 - val_accuracy: 0.8333\n",
      "Epoch 78/200\n",
      "643/643 - 0s - loss: 0.3118 - accuracy: 0.8834 - val_loss: 0.3682 - val_accuracy: 0.8421\n",
      "Epoch 79/200\n",
      "643/643 - 0s - loss: 0.3116 - accuracy: 0.8849 - val_loss: 0.3668 - val_accuracy: 0.8421\n",
      "Epoch 80/200\n",
      "643/643 - 0s - loss: 0.3108 - accuracy: 0.8834 - val_loss: 0.3669 - val_accuracy: 0.8421\n"
     ]
    },
    {
     "name": "stdout",
     "output_type": "stream",
     "text": [
      "Epoch 81/200\n",
      "643/643 - 0s - loss: 0.3104 - accuracy: 0.8818 - val_loss: 0.3664 - val_accuracy: 0.8333\n",
      "Epoch 82/200\n",
      "643/643 - 0s - loss: 0.3097 - accuracy: 0.8849 - val_loss: 0.3663 - val_accuracy: 0.8421\n",
      "Epoch 83/200\n",
      "643/643 - 0s - loss: 0.3093 - accuracy: 0.8849 - val_loss: 0.3643 - val_accuracy: 0.8421\n",
      "Epoch 84/200\n",
      "643/643 - 0s - loss: 0.3087 - accuracy: 0.8849 - val_loss: 0.3643 - val_accuracy: 0.8421\n",
      "Epoch 85/200\n",
      "643/643 - 0s - loss: 0.3079 - accuracy: 0.8849 - val_loss: 0.3639 - val_accuracy: 0.8421\n",
      "Epoch 86/200\n",
      "643/643 - 0s - loss: 0.3073 - accuracy: 0.8849 - val_loss: 0.3626 - val_accuracy: 0.8421\n",
      "Epoch 87/200\n",
      "643/643 - 0s - loss: 0.3069 - accuracy: 0.8849 - val_loss: 0.3620 - val_accuracy: 0.8421\n",
      "Epoch 88/200\n",
      "643/643 - 0s - loss: 0.3065 - accuracy: 0.8834 - val_loss: 0.3624 - val_accuracy: 0.8421\n",
      "Epoch 89/200\n",
      "643/643 - 0s - loss: 0.3058 - accuracy: 0.8849 - val_loss: 0.3615 - val_accuracy: 0.8421\n",
      "Epoch 90/200\n",
      "643/643 - 0s - loss: 0.3060 - accuracy: 0.8865 - val_loss: 0.3607 - val_accuracy: 0.8421\n",
      "Epoch 91/200\n",
      "643/643 - 0s - loss: 0.3050 - accuracy: 0.8849 - val_loss: 0.3614 - val_accuracy: 0.8509\n",
      "Epoch 92/200\n",
      "643/643 - 0s - loss: 0.3041 - accuracy: 0.8834 - val_loss: 0.3603 - val_accuracy: 0.8509\n",
      "Epoch 93/200\n",
      "643/643 - 0s - loss: 0.3037 - accuracy: 0.8849 - val_loss: 0.3599 - val_accuracy: 0.8509\n",
      "Epoch 94/200\n",
      "643/643 - 0s - loss: 0.3034 - accuracy: 0.8849 - val_loss: 0.3603 - val_accuracy: 0.8509\n",
      "Epoch 95/200\n",
      "643/643 - 0s - loss: 0.3024 - accuracy: 0.8865 - val_loss: 0.3589 - val_accuracy: 0.8509\n",
      "Epoch 96/200\n",
      "643/643 - 0s - loss: 0.3024 - accuracy: 0.8849 - val_loss: 0.3585 - val_accuracy: 0.8509\n",
      "Epoch 97/200\n",
      "643/643 - 0s - loss: 0.3016 - accuracy: 0.8849 - val_loss: 0.3582 - val_accuracy: 0.8509\n",
      "Epoch 98/200\n",
      "643/643 - 0s - loss: 0.3008 - accuracy: 0.8849 - val_loss: 0.3584 - val_accuracy: 0.8509\n",
      "Epoch 99/200\n",
      "643/643 - 0s - loss: 0.3007 - accuracy: 0.8849 - val_loss: 0.3575 - val_accuracy: 0.8509\n",
      "Epoch 100/200\n",
      "643/643 - 0s - loss: 0.3002 - accuracy: 0.8849 - val_loss: 0.3565 - val_accuracy: 0.8509\n",
      "Epoch 101/200\n",
      "643/643 - 0s - loss: 0.2999 - accuracy: 0.8849 - val_loss: 0.3564 - val_accuracy: 0.8509\n",
      "Epoch 102/200\n",
      "643/643 - 0s - loss: 0.2992 - accuracy: 0.8849 - val_loss: 0.3572 - val_accuracy: 0.8509\n",
      "Epoch 103/200\n",
      "643/643 - 0s - loss: 0.2988 - accuracy: 0.8849 - val_loss: 0.3564 - val_accuracy: 0.8509\n"
     ]
    },
    {
     "data": {
      "text/plain": [
       "<tensorflow.python.keras.callbacks.History at 0x1e3481b1d88>"
      ]
     },
     "execution_count": 87,
     "metadata": {},
     "output_type": "execute_result"
    }
   ],
   "source": [
    "batch_size = 60\n",
    "max_epochs = 200\n",
    "\n",
    "model = Sequential()\n",
    "model.add(Dense(30, input_dim=inputs.shape[1], \n",
    "                kernel_initializer='lecun_uniform', \n",
    "                kernel_constraint = max_norm(5),\n",
    "                activation='relu'))\n",
    "#model.add(Dropout(0.2))\n",
    "model.add(Dense(1, kernel_initializer='lecun_uniform', \n",
    "                activation='sigmoid'))\n",
    "# Compile model\n",
    "model.compile(loss='binary_crossentropy', \n",
    "              optimizer='adam', \n",
    "              metrics=['accuracy'])\n",
    "validation_split = 0.15\n",
    "early_stopping = tf.keras.callbacks.EarlyStopping(patience=2)\n",
    "\n",
    "model.fit(X, Y,\n",
    "          batch_size = batch_size,\n",
    "          epochs = max_epochs,\n",
    "          validation_split = validation_split,\n",
    "          callbacks=[early_stopping],\n",
    "          verbose=2)"
   ]
  },
  {
   "cell_type": "code",
   "execution_count": 84,
   "metadata": {},
   "outputs": [],
   "source": [
    "train_loss, train_accuracy = model.evaluate(X_train, y_train, verbose=0)\n",
    "cv_loss, cv_accuracy = model.evaluate(X_cv, y_cv, verbose=0)"
   ]
  },
  {
   "cell_type": "code",
   "execution_count": 85,
   "metadata": {},
   "outputs": [
    {
     "name": "stdout",
     "output_type": "stream",
     "text": [
      "Train loss: 0.36. Train accuracy: 86.63%\n",
      "CV loss: 0.41. CV accuracy: 79.82%\n"
     ]
    }
   ],
   "source": [
    "print('Train loss: {0:.2f}. Train accuracy: {1:.2f}%'.format(train_loss, train_accuracy*100))\n",
    "print('CV loss: {0:.2f}. CV accuracy: {1:.2f}%'.format(cv_loss, cv_accuracy*100))"
   ]
  },
  {
   "cell_type": "code",
   "execution_count": 86,
   "metadata": {
    "scrolled": false
   },
   "outputs": [
    {
     "name": "stdout",
     "output_type": "stream",
     "text": [
      "Train loss: 0.36. Train accuracy: 86.63%\n",
      "CV loss: 0.41. CV accuracy: 79.82%\n"
     ]
    }
   ],
   "source": [
    "print('Train loss: {0:.2f}. Train accuracy: {1:.2f}%'.format(train_loss, train_accuracy*100))\n",
    "print('CV loss: {0:.2f}. CV accuracy: {1:.2f}%'.format(cv_loss, cv_accuracy*100))"
   ]
  },
  {
   "cell_type": "code",
   "execution_count": 88,
   "metadata": {},
   "outputs": [
    {
     "name": "stdout",
     "output_type": "stream",
     "text": [
      "CV loss: 0.41. CV accuracy: 82.84%\n"
     ]
    }
   ],
   "source": [
    "cv_loss, cv_accuracy = model.evaluate(X_final, y_final, verbose=0)\n",
    "print('CV loss: {0:.2f}. CV accuracy: {1:.2f}%'.format(cv_loss, cv_accuracy*100))"
   ]
  },
  {
   "cell_type": "code",
   "execution_count": 90,
   "metadata": {},
   "outputs": [
    {
     "name": "stdout",
     "output_type": "stream",
     "text": [
      "              precision    recall  f1-score   support\n",
      "\n",
      "           0      0.835     0.887     0.861        80\n",
      "           1      0.816     0.741     0.777        54\n",
      "\n",
      "    accuracy                          0.828       134\n",
      "   macro avg      0.826     0.814     0.819       134\n",
      "weighted avg      0.828     0.828     0.827       134\n",
      "\n"
     ]
    }
   ],
   "source": [
    "pred = model.predict(X_final) \n",
    "pred = [0 if x <0.5 else 1 for x in pred]\n",
    "print(classification_report(y_final, pred, digits=3))"
   ]
  },
  {
   "cell_type": "code",
   "execution_count": null,
   "metadata": {},
   "outputs": [],
   "source": [
    "predfinal['PassengerId'] = ids.values\n",
    "predfinal = predfinal[['PassengerId', 'Survived']]\n",
    "predfinal\n",
    "predfinal.to_csv('nn-all-cat v6.csv', index = False)"
   ]
  },
  {
   "cell_type": "code",
   "execution_count": 229,
   "metadata": {},
   "outputs": [],
   "source": [
    "submit = pd.DataFrame(raw_data['PassengerId'], columns=[\"PassengerId\"])\n",
    "submit['Survived'] = pred\n",
    "submit.to_csv('nn-final.csv', index = False)"
   ]
  },
  {
   "cell_type": "code",
   "execution_count": null,
   "metadata": {},
   "outputs": [],
   "source": []
  },
  {
   "cell_type": "code",
   "execution_count": null,
   "metadata": {},
   "outputs": [],
   "source": []
  },
  {
   "cell_type": "code",
   "execution_count": null,
   "metadata": {},
   "outputs": [],
   "source": []
  },
  {
   "cell_type": "markdown",
   "metadata": {},
   "source": [
    "batch_size = 32\n",
    "max_epochs = 200\n",
    "validation_split = 0.15\n",
    "early_stopping = tf.keras.callbacks.EarlyStopping(patience=2)\n",
    "\n",
    "model = Sequential([\n",
    "        Dense(20, input_dim = inputs.shape[1], \n",
    "              kernel_initializer='he_uniform',\n",
    "              kernel_regularizer=tf.keras.regularizers.l2(0.05), \n",
    "              activation='relu'),\n",
    "        Dropout(0.35),\n",
    "        Dense(10, \n",
    "              kernel_initializer='he_uniform',\n",
    "              kernel_regularizer=tf.keras.regularizers.l2(0.05), \n",
    "              activation='relu'),\n",
    "        Dropout(0.35),\n",
    "        Dense(1, activation='sigmoid')\n",
    "    ])\n",
    "model.compile(optimizer='adam', \n",
    "              loss='binary_crossentropy', \n",
    "              metrics=['accuracy'])\n",
    "\n",
    "model.fit(inputs, \n",
    "          targets,\n",
    "          batch_size = batch_size,\n",
    "          epochs = max_epochs,\n",
    "          validation_split = validation_split,\n",
    "          callbacks=[early_stopping],\n",
    "          verbose=2)\n"
   ]
  },
  {
   "cell_type": "markdown",
   "metadata": {},
   "source": [
    "n=28\n",
    "k=1\n",
    "hidden_n = 20\n",
    "\n",
    "model = tf.keras.Sequential([\n",
    "    tf.keras.layers.Dense(hidden_n, input_dim =n, activation='sigmoid', \n",
    "                         kernel_regularizer=tf.keras.regularizers.l1(.01)),\n",
    "    tf.keras.layers.Dense(hidden_n, activation='sigmoid', \n",
    "                         kernel_regularizer=tf.keras.regularizers.l1(.01)),\n",
    "    tf.keras.layers.Dense(k, activation='sigmoid', \n",
    "                         kernel_regularizer=tf.keras.regularizers.l1(.01))\n",
    "])\n",
    "model.compile(optimizer='adam', loss='binary_crossentropy', metrics=['accuracy'])"
   ]
  },
  {
   "cell_type": "code",
   "execution_count": null,
   "metadata": {},
   "outputs": [],
   "source": [
    "print('Test loss: {0:.2f}. Test accuracy: {1:.2f}%'.format(test_loss, test_accuracy*100))"
   ]
  },
  {
   "cell_type": "markdown",
   "metadata": {},
   "source": [
    "#### evaluation"
   ]
  },
  {
   "cell_type": "code",
   "execution_count": null,
   "metadata": {},
   "outputs": [],
   "source": [
    "X, x_test, Y, y_test = train_test_split(inputs, targets, train_size = .9, random_state=82)"
   ]
  },
  {
   "cell_type": "code",
   "execution_count": null,
   "metadata": {
    "scrolled": true
   },
   "outputs": [],
   "source": [
    "batch_size = 32\n",
    "max_epochs = 200\n",
    "validation_split = 0.20\n",
    "early_stopping = tf.keras.callbacks.EarlyStopping(patience=2)\n",
    "\n",
    "cvscores = []\n",
    "trainscores = []\n",
    "\n",
    "kf = KFold(n_splits=5, random_state=80, shuffle=True)\n",
    "\n",
    "for train, test in kf.split(X, Y):\n",
    "    model = Sequential([\n",
    "        Dense(20, input_dim = X.shape[1], \n",
    "              kernel_initializer='he_uniform',\n",
    "              kernel_regularizer=tf.keras.regularizers.l2(0.01), \n",
    "              activation='relu'),\n",
    "        Dropout(0.50),\n",
    "        Dense(10, \n",
    "              kernel_initializer='he_uniform',\n",
    "              kernel_regularizer=tf.keras.regularizers.l2(0.01), \n",
    "              activation='relu'),\n",
    "        Dropout(0.50),\n",
    "        Dense(1, activation='sigmoid')\n",
    "    ])\n",
    "    model.compile(optimizer='adam', \n",
    "                  loss='binary_crossentropy', \n",
    "                  metrics=['accuracy'])\n",
    "\n",
    "    model.fit(X[train], \n",
    "              Y[train],\n",
    "              batch_size = batch_size,\n",
    "              epochs = max_epochs,\n",
    "              validation_split = validation_split,\n",
    "              callbacks=[early_stopping],\n",
    "              verbose=0)\n",
    "    scores_t = model.evaluate(X[train], Y[train], verbose=0)\n",
    "    scores = model.evaluate(X[test], Y[test], verbose=0)\n",
    "    \n",
    "    #test_loss, test_accuracy = model.evaluate(x_test, y_test, verbose=0)\n",
    "    #print('Test loss: {0:.2f}. Test accuracy: {1:.2f}%'.format(test_loss, test_accuracy*100))\n",
    "    \n",
    "    print(\"accuracy train: %.2f%%\" % (scores_t[1]*100))\n",
    "    print(\"accuracy CV: %.2f%%\" % (scores[1]*100))\n",
    "    trainscores.append(scores_t[1]*100)\n",
    "    cvscores.append(scores[1]*100)\n",
    "print(\"%.2f%%(+/-%.2f%%)\" % (np.mean(trainscores), np.std(trainscores)))\n",
    "print(\"%.2f%%(+/-%.2f%%)\" % (np.mean(cvscores), np.std(cvscores)))\n",
    "\n",
    "\n",
    "#return (np.mean(train_scores), np.mean(cv_scores))"
   ]
  },
  {
   "cell_type": "code",
   "execution_count": null,
   "metadata": {},
   "outputs": [],
   "source": [
    "#03 03 ---- 01 reg\n",
    "print(\"%.2f%%(+/-%.2f%%)\" % (np.mean(trainscores), np.std(trainscores)))\n",
    "print(\"%.2f%%(+/-%.2f%%)\" % (np.mean(cvscores), np.std(cvscores)))"
   ]
  },
  {
   "cell_type": "code",
   "execution_count": null,
   "metadata": {},
   "outputs": [],
   "source": [
    "#.4 .4 --- l2 0.005\n",
    "print(\"%.2f%%(+/-%.2f%%)\" % (np.mean(trainscores), np.std(trainscores)))\n",
    "print(\"%.2f%%(+/-%.2f%%)\" % (np.mean(cvscores), np.std(cvscores)))"
   ]
  },
  {
   "cell_type": "code",
   "execution_count": null,
   "metadata": {},
   "outputs": [],
   "source": [
    "#.25 .25 --- 0.005 -- 80batch \n",
    "\n",
    "print(\"%.2f%%(+/-%.2f%%)\" % (np.mean(trainscores), np.std(trainscores)))\n",
    "print(\"%.2f%%(+/-%.2f%%)\" % (np.mean(cvscores), np.std(cvscores)))"
   ]
  },
  {
   "cell_type": "code",
   "execution_count": null,
   "metadata": {},
   "outputs": [],
   "source": [
    "print(\"%.2f%%(+/-%.2f%%)\" % (np.mean(trainscores), np.std(trainscores)))\n",
    "print(\"%.2f%%(+/-%.2f%%)\" % (np.mean(cvscores), np.std(cvscores)))"
   ]
  },
  {
   "cell_type": "code",
   "execution_count": null,
   "metadata": {},
   "outputs": [],
   "source": []
  },
  {
   "cell_type": "code",
   "execution_count": null,
   "metadata": {},
   "outputs": [],
   "source": [
    "def test_batch(input_batch):\n",
    "    batch_size = input_batch\n",
    "    max_epochs = 200\n",
    "    validation_split = 0.2\n",
    "    early_stopping = tf.keras.callbacks.EarlyStopping(patience=33)\n",
    "\n",
    "    cvscores = []\n",
    "\n",
    "    kf = KFold(n_splits=5, random_state=3, shuffle=True)\n",
    "\n",
    "    for train, test in kf.split(inputs, targets):\n",
    "        model = Sequential([\n",
    "            Dense(20, input_dim = inputs.shape[1], kernel_regularizer=tf.keras.regularizers.l2(0.005), activation='relu'),\n",
    "            Dropout(0.25),\n",
    "            Dense(10, kernel_regularizer=tf.keras.regularizers.l2(0.005), activation='relu'),\n",
    "            Dropout(0.25),\n",
    "            Dense(1, activation='sigmoid')\n",
    "        ])\n",
    "        model.compile(optimizer='adam', \n",
    "                      loss='binary_crossentropy', \n",
    "                      metrics=['accuracy'])\n",
    "\n",
    "        model.fit(inputs[train], \n",
    "                  targets[train],\n",
    "                  batch_size = batch_size,\n",
    "                  epochs = max_epochs,\n",
    "                  validation_split = validation_split,\n",
    "                  callbacks=[early_stopping],\n",
    "                  verbose=0)\n",
    "        scores = model.evaluate(inputs[test], targets[test], verbose=0)\n",
    "\n",
    "   #     print(\"accuracy: %.2f%%\" % (scores[1]*100))\n",
    "        cvscores.append(scores[1]*100)\n",
    "        test_loss, test_accuracy = model.evaluate(x_test, y_test, verbose=0)\n",
    "\n",
    "    #print(\"%.2f%%(+/-%.2f%%)\" % (np.mean(cvscores), np.std(cvscores)))\n",
    "    return np.mean(cvscores), np.std(cvscores)\n",
    "\n",
    "    #return (np.mean(train_scores), np.mean(cv_scores))"
   ]
  },
  {
   "cell_type": "code",
   "execution_count": null,
   "metadata": {},
   "outputs": [],
   "source": [
    "batches = [60,80,100, 120,150]\n",
    "for b in batches:\n",
    "    score = test_batch(b)\n",
    "    print(\"%.2f%%(+/-%.2f%%)\" % (score[0], score[1]))"
   ]
  },
  {
   "cell_type": "code",
   "execution_count": null,
   "metadata": {},
   "outputs": [],
   "source": [
    "prednn = model.predict(np.array(inputs)) \n",
    "\n",
    "predfinal = pd.DataFrame([0 if x <0.5 else 1 for x in prednn], columns = ['Survived'])\n",
    "predfinal['PassengerId'] = ids.values\n",
    "predfinal = predfinal[['PassengerId', 'Survived']]\n",
    "predfinal"
   ]
  },
  {
   "cell_type": "code",
   "execution_count": null,
   "metadata": {},
   "outputs": [],
   "source": [
    "predfinal['PassengerId'] = ids.values\n",
    "predfinal = predfinal[['PassengerId', 'Survived']]\n",
    "predfinal\n",
    "predfinal.to_csv('nn-all-cat v6.csv', index = False)"
   ]
  },
  {
   "cell_type": "markdown",
   "metadata": {},
   "source": [
    "### submission"
   ]
  },
  {
   "cell_type": "code",
   "execution_count": null,
   "metadata": {},
   "outputs": [],
   "source": [
    "submit = pd.concat([my_id, pred], axis=1)\n",
    "submit = submit.rename({'pred': 'Survived'}, axis=1)\n",
    "submit.to_csv('log_submit_2.csv', index = False)"
   ]
  }
 ],
 "metadata": {
  "kernelspec": {
   "display_name": "Python [conda env:py3-TF2.0]",
   "language": "python",
   "name": "conda-env-py3-TF2.0-py"
  },
  "language_info": {
   "codemirror_mode": {
    "name": "ipython",
    "version": 3
   },
   "file_extension": ".py",
   "mimetype": "text/x-python",
   "name": "python",
   "nbconvert_exporter": "python",
   "pygments_lexer": "ipython3",
   "version": "3.7.7"
  }
 },
 "nbformat": 4,
 "nbformat_minor": 2
}
